{
  "cells": [
    {
      "cell_type": "markdown",
      "metadata": {
        "id": "V7W8MNrln7NY"
      },
      "source": [
        "# Writing Requests"
      ]
    },
    {
      "cell_type": "markdown",
      "metadata": {
        "id": "En2uuEgdn7Nf"
      },
      "source": [
        "Look at the code blocks below, and in each case write the request necessary to supply the required data in the correct format. Assume the API is running on the local host."
      ]
    },
    {
      "cell_type": "markdown",
      "metadata": {
        "id": "MgSaTQgtn7Ng"
      },
      "source": [
        "1. Write a `GET` request to retrieve the data for the product with `product_id` = `5`"
      ]
    },
    {
      "cell_type": "code",
      "execution_count": null,
      "metadata": {
        "id": "_qRS1Xp7n7Ng"
      },
      "outputs": [],
      "source": [
        "import fastapi\n",
        "import uvicorn\n",
        "\n",
        "api = fastapi.FastAPI()\n",
        "\n",
        "@api.get('/product/by_id/{product_id}')\n",
        "def get_product_by_ID(product_id: int):\n",
        "    # This function is looking for a query parameter called 'genre'\n",
        "    print(f'Fetching data for product with ID= {product_id}')\n"
      ]
    },
    {
      "cell_type": "code",
      "execution_count": null,
      "metadata": {
        "id": "6A8fJTlfn7Nk"
      },
      "outputs": [],
      "source": [
        "# TODO - Write a request to get the product with ID= 5\n",
        "request.get('/product/by_id/5')\n"
      ]
    },
    {
      "cell_type": "markdown",
      "metadata": {
        "id": "PSIv06bWn7Nk"
      },
      "source": [
        "2. Write a `GET` request to retrieve the products where `category` is `accessories` and `max_price` is `50.00`"
      ]
    },
    {
      "cell_type": "code",
      "execution_count": null,
      "metadata": {
        "id": "4nXn7B9Cn7Nl"
      },
      "outputs": [],
      "source": [
        "import fastapi\n",
        "import uvicorn\n",
        "\n",
        "api = fastapi.FastAPI()\n",
        "\n",
        "@api.get('/product/by_category_and_price/')\n",
        "def get_product_by_category_and_price(category: str, max_price: float):\n",
        "    # This function is looking for a query parameter called 'genre'\n",
        "    print(f'Fetching data for products in category {category} and price under £{max_price}')\n"
      ]
    },
    {
      "cell_type": "code",
      "execution_count": null,
      "metadata": {
        "id": "PBNe35ZVn7Nl"
      },
      "outputs": [],
      "source": [
        "# TODO - Write a request to get the products in the 'accessories' category with a price under £50.00\n",
        "requests.get('/product/by_category_and_price?category=accessories&max_price=50')\n"
      ]
    },
    {
      "cell_type": "markdown",
      "metadata": {
        "id": "f_Fg8OPdn7Nm"
      },
      "source": [
        "3. Write a `POST` request to add a new item with the following attributes:\n",
        "\n",
        "``` python\n",
        "\n",
        "name: ludicrously-expensive-sunglasses\n",
        "category: accessories\n",
        "product_id: 77\n",
        "price: 500\n",
        "\n",
        "```"
      ]
    },
    {
      "cell_type": "code",
      "execution_count": null,
      "metadata": {
        "id": "3trd2bkTn7Nn"
      },
      "outputs": [],
      "source": [
        "import fastapi\n",
        "from pydantic import BaseModel\n",
        "api = fastapi.FastAPI()\n",
        "\n",
        "class Product(BaseModel):\n",
        "    name: str\n",
        "    category: str\n",
        "    product_id: int\n",
        "    price: float\n",
        "\n",
        "\n",
        "@api.post('/product/new_product')\n",
        "def create_new_author(product: Product):\n",
        "   print(f\"adding new product, name: {product.name}, id: {product.product_id}, category: {product.category}, price: {product.price}\")\n"
      ]
    },
    {
      "cell_type": "code",
      "execution_count": null,
      "metadata": {
        "id": "D65HH3emn7Nn"
      },
      "outputs": [],
      "source": [
        "# TODO - Write a POST request to create a new product with the correct details\n",
        "product = Product(data)\n",
        "requests.post('/product/new_product', json = product)\n"
      ]
    }
  ],
  "metadata": {
    "language_info": {
      "name": "python"
    },
    "colab": {
      "provenance": []
    }
  },
  "nbformat": 4,
  "nbformat_minor": 0
}