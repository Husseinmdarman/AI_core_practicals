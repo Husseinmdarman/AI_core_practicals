{
  "cells": [
    {
      "cell_type": "markdown",
      "metadata": {
        "id": "view-in-github",
        "colab_type": "text"
      },
      "source": [
        "<a href=\"https://colab.research.google.com/github/Husseinmdarman/AI_core_practicals/blob/main/practical_sql_basics.ipynb\" target=\"_parent\"><img src=\"https://colab.research.google.com/assets/colab-badge.svg\" alt=\"Open In Colab\"/></a>"
      ]
    },
    {
      "cell_type": "code",
      "execution_count": null,
      "metadata": {
        "id": "2TAixnqZRyPn"
      },
      "outputs": [],
      "source": [
        "import psycopg2\n",
        "from sqlalchemy import create_engine\n",
        "import pandas as pd"
      ]
    },
    {
      "cell_type": "markdown",
      "metadata": {
        "id": "kwyqx7jxRmck"
      },
      "source": [
        "  Q1. Create two dataframes with the data you downloaded"
      ]
    },
    {
      "cell_type": "code",
      "execution_count": null,
      "metadata": {
        "colab": {
          "base_uri": "https://localhost:8080/"
        },
        "id": "TapvhyuDSEpB",
        "outputId": "c06b71e7-81ff-432a-efdc-6ea3ebc67b27"
      },
      "outputs": [
        {
          "name": "stdout",
          "output_type": "stream",
          "text": [
            "                  Title  Year\n",
            "0                  1408  2007\n",
            "1   Any Given Wednesday  2000\n",
            "2               Argylle  2022\n",
            "3          Pulp Fiction  1994\n",
            "4  QT8: The First Eight  2019\n",
            "              Title  Year\n",
            "0     1 Mile to You  2017\n",
            "1         600 Miles  2015\n",
            "2  A Backyard Story  2010\n",
            "3     A Fuller Life  2013\n",
            "4     A World Apart  1988\n"
          ]
        }
      ],
      "source": [
        "samuel_movies_df = pd.read_csv('samuel_movies.csv')\n",
        "tim_movies_df = pd.read_csv('tim_movies.csv')\n",
        "print(samuel_movies_df.head())\n",
        "print(tim_movies_df.head())"
      ]
    },
    {
      "cell_type": "markdown",
      "metadata": {
        "id": "uIjpI_VdSmyc"
      },
      "source": [
        "Q2. for each dataframe, and using SQLAlchemy, create a new table in your database with the following columns:\n",
        "title: String\n",
        "year: Integer\n",
        "Name the tables samuel_movies and tim_movies accordingly"
      ]
    },
    {
      "cell_type": "code",
      "execution_count": null,
      "metadata": {
        "id": "3xS7vj-xTS1r"
      },
      "outputs": [],
      "source": [
        "DATABASE_TYPE = 'postgresql'\n",
        "DBAPI = 'psycopg2'\n",
        "USER = 'postgres'\n",
        "PASSWORD = 'Barcemo123'\n",
        "HOST = 'localhost'\n",
        "DATABASE = 'Pagila'\n",
        "PORT = 5432"
      ]
    },
    {
      "cell_type": "code",
      "execution_count": null,
      "metadata": {
        "id": "V5Tl8i6mSypu"
      },
      "outputs": [],
      "source": [
        "connection_string = create_engine(f\"{DATABASE_TYPE}+{DBAPI}://{USER}:{PASSWORD}@{HOST}:{PORT}/{DATABASE}\")"
      ]
    },
    {
      "cell_type": "code",
      "execution_count": null,
      "metadata": {
        "colab": {
          "base_uri": "https://localhost:8080/",
          "height": 633
        },
        "id": "-wGTwCfAT5Rg",
        "outputId": "af5967f0-8675-482a-aeee-efe9d767a5c5"
      },
      "outputs": [
        {
          "data": {
            "text/plain": [
              "91"
            ]
          },
          "execution_count": 9,
          "metadata": {},
          "output_type": "execute_result"
        }
      ],
      "source": [
        "samuel_movies_df.to_sql(name ='samuel_movies',con = connection_string, if_exists ='replace')\n",
        "tim_movies_df.to_sql(name ='tim_movies',con = connection_string, if_exists ='replace')"
      ]
    },
    {
      "cell_type": "markdown",
      "metadata": {
        "id": "ziJecaenmyzc"
      },
      "source": [
        "Q2. Create a new table named Common containing the films where Samuel L. Jackson AND Tim Roth both had a role"
      ]
    },
    {
      "cell_type": "code",
      "execution_count": null,
      "metadata": {
        "id": "1evLnvRnmyzd"
      },
      "outputs": [],
      "source": [
        "common_films_sam_tim = pd.merge(samuel_movies_df,tim_movies_df, how='inner', on=['Title'], suffixes= [' Samuel', ' Tim'])"
      ]
    },
    {
      "cell_type": "code",
      "execution_count": null,
      "metadata": {
        "id": "JQVRWo2Gmyze",
        "outputId": "500de18d-2c8b-400f-c4fd-547dae1a92a0"
      },
      "outputs": [
        {
          "data": {
            "text/plain": [
              "5"
            ]
          },
          "execution_count": 23,
          "metadata": {},
          "output_type": "execute_result"
        }
      ],
      "source": [
        "common_films_sam_tim.to_sql(name ='common',con = connection_string, if_exists ='replace')"
      ]
    },
    {
      "cell_type": "markdown",
      "metadata": {
        "id": "ooktxcKlmyzf"
      },
      "source": [
        "Q3.Create a new table named Only_Samuel containing the films where Samuel L. Jackson had a role but Tim Roth didn't"
      ]
    },
    {
      "cell_type": "code",
      "execution_count": null,
      "metadata": {
        "id": "UxA1O2lQmyzf",
        "outputId": "eb6e0122-5e3b-4395-f74c-4d7aba049949"
      },
      "outputs": [
        {
          "data": {
            "text/html": [
              "<div>\n",
              "<style scoped>\n",
              "    .dataframe tbody tr th:only-of-type {\n",
              "        vertical-align: middle;\n",
              "    }\n",
              "\n",
              "    .dataframe tbody tr th {\n",
              "        vertical-align: top;\n",
              "    }\n",
              "\n",
              "    .dataframe thead th {\n",
              "        text-align: right;\n",
              "    }\n",
              "</style>\n",
              "<table border=\"1\" class=\"dataframe\">\n",
              "  <thead>\n",
              "    <tr style=\"text-align: right;\">\n",
              "      <th></th>\n",
              "      <th>Title</th>\n",
              "      <th>Year</th>\n",
              "    </tr>\n",
              "  </thead>\n",
              "  <tbody>\n",
              "    <tr>\n",
              "      <th>0</th>\n",
              "      <td>1408</td>\n",
              "      <td>2007</td>\n",
              "    </tr>\n",
              "    <tr>\n",
              "      <th>1</th>\n",
              "      <td>Any Given Wednesday</td>\n",
              "      <td>2000</td>\n",
              "    </tr>\n",
              "    <tr>\n",
              "      <th>2</th>\n",
              "      <td>Argylle</td>\n",
              "      <td>2022</td>\n",
              "    </tr>\n",
              "    <tr>\n",
              "      <th>3</th>\n",
              "      <td>Pulp Fiction</td>\n",
              "      <td>1994</td>\n",
              "    </tr>\n",
              "    <tr>\n",
              "      <th>5</th>\n",
              "      <td>Quantum Quest: A Cassini Space Odyssey</td>\n",
              "      <td>2010</td>\n",
              "    </tr>\n",
              "  </tbody>\n",
              "</table>\n",
              "</div>"
            ],
            "text/plain": [
              "                                    Title  Year\n",
              "0                                    1408  2007\n",
              "1                     Any Given Wednesday  2000\n",
              "2                                 Argylle  2022\n",
              "3                            Pulp Fiction  1994\n",
              "5  Quantum Quest: A Cassini Space Odyssey  2010"
            ]
          },
          "execution_count": 26,
          "metadata": {},
          "output_type": "execute_result"
        }
      ],
      "source": [
        "role_samuel_not_tim = samuel_movies_df.loc[~samuel_movies_df['Title'].isin(tim_movies_df['Title'])].copy()\n",
        "role_samuel_not_tim.head()"
      ]
    },
    {
      "cell_type": "code",
      "execution_count": null,
      "metadata": {
        "id": "HHioegitmyzg",
        "outputId": "cff91319-60ff-4900-a208-33cb9e56e829"
      },
      "outputs": [
        {
          "data": {
            "text/plain": [
              "174"
            ]
          },
          "execution_count": 27,
          "metadata": {},
          "output_type": "execute_result"
        }
      ],
      "source": [
        "role_samuel_not_tim.to_sql(name ='samuel_role_not_tim',con = connection_string, if_exists ='replace')"
      ]
    },
    {
      "cell_type": "markdown",
      "metadata": {
        "id": "AWx-IoZDmyzg"
      },
      "source": [
        "Q4. Create a new table named Only_Tim containing the films where Tim Roth had a role but Samuel L. Jackson didn't"
      ]
    },
    {
      "cell_type": "code",
      "execution_count": null,
      "metadata": {
        "id": "rTxlQSFKmyzg",
        "outputId": "d47e7748-ce61-4f3b-fe27-598f6ba779c1"
      },
      "outputs": [
        {
          "data": {
            "text/html": [
              "<div>\n",
              "<style scoped>\n",
              "    .dataframe tbody tr th:only-of-type {\n",
              "        vertical-align: middle;\n",
              "    }\n",
              "\n",
              "    .dataframe tbody tr th {\n",
              "        vertical-align: top;\n",
              "    }\n",
              "\n",
              "    .dataframe thead th {\n",
              "        text-align: right;\n",
              "    }\n",
              "</style>\n",
              "<table border=\"1\" class=\"dataframe\">\n",
              "  <thead>\n",
              "    <tr style=\"text-align: right;\">\n",
              "      <th></th>\n",
              "      <th>Title</th>\n",
              "      <th>Year</th>\n",
              "    </tr>\n",
              "  </thead>\n",
              "  <tbody>\n",
              "    <tr>\n",
              "      <th>0</th>\n",
              "      <td>1 Mile to You</td>\n",
              "      <td>2017</td>\n",
              "    </tr>\n",
              "    <tr>\n",
              "      <th>1</th>\n",
              "      <td>600 Miles</td>\n",
              "      <td>2015</td>\n",
              "    </tr>\n",
              "    <tr>\n",
              "      <th>3</th>\n",
              "      <td>A Fuller Life</td>\n",
              "      <td>2013</td>\n",
              "    </tr>\n",
              "    <tr>\n",
              "      <th>4</th>\n",
              "      <td>A World Apart</td>\n",
              "      <td>1988</td>\n",
              "    </tr>\n",
              "    <tr>\n",
              "      <th>5</th>\n",
              "      <td>Animals with the Tollkeeper</td>\n",
              "      <td>1998</td>\n",
              "    </tr>\n",
              "  </tbody>\n",
              "</table>\n",
              "</div>"
            ],
            "text/plain": [
              "                         Title  Year\n",
              "0                1 Mile to You  2017\n",
              "1                    600 Miles  2015\n",
              "3                A Fuller Life  2013\n",
              "4                A World Apart  1988\n",
              "5  Animals with the Tollkeeper  1998"
            ]
          },
          "execution_count": 29,
          "metadata": {},
          "output_type": "execute_result"
        }
      ],
      "source": [
        "role_tim_not_samuel = tim_movies_df.loc[~tim_movies_df['Title'].isin(samuel_movies_df['Title'])].copy()\n",
        "role_tim_not_samuel.head()"
      ]
    },
    {
      "cell_type": "code",
      "execution_count": null,
      "metadata": {
        "id": "-zvjOWyJmyzh",
        "outputId": "7f5e0652-66b4-455f-f0c4-65cfe6eea09a"
      },
      "outputs": [
        {
          "data": {
            "text/plain": [
              "86"
            ]
          },
          "execution_count": 30,
          "metadata": {},
          "output_type": "execute_result"
        }
      ],
      "source": [
        "role_tim_not_samuel.to_sql(name ='tim_role_not_samuel',con = connection_string, if_exists ='replace')"
      ]
    },
    {
      "cell_type": "markdown",
      "metadata": {
        "id": "2uXf4StSmyzi"
      },
      "source": [
        "![image.png](data:image/png;base64,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) Has been successfully added to the database"
      ]
    }
  ],
  "metadata": {
    "colab": {
      "provenance": [],
      "include_colab_link": true
    },
    "kernelspec": {
      "display_name": "Python 3",
      "name": "python3"
    },
    "language_info": {
      "codemirror_mode": {
        "name": "ipython",
        "version": 3
      },
      "file_extension": ".py",
      "mimetype": "text/x-python",
      "name": "python",
      "nbconvert_exporter": "python",
      "pygments_lexer": "ipython3",
      "version": "3.11.4"
    }
  },
  "nbformat": 4,
  "nbformat_minor": 0
}