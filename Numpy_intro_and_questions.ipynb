{
  "nbformat": 4,
  "nbformat_minor": 0,
  "metadata": {
    "colab": {
      "provenance": [],
      "authorship_tag": "ABX9TyPMNwuq61aojyjMEwy3BVe3",
      "include_colab_link": true
    },
    "kernelspec": {
      "name": "python3",
      "display_name": "Python 3"
    },
    "language_info": {
      "name": "python"
    }
  },
  "cells": [
    {
      "cell_type": "markdown",
      "metadata": {
        "id": "view-in-github",
        "colab_type": "text"
      },
      "source": [
        "<a href=\"https://colab.research.google.com/github/Husseinmdarman/AI_core_practicals/blob/main/Numpy_intro_and_questions.ipynb\" target=\"_parent\"><img src=\"https://colab.research.google.com/assets/colab-badge.svg\" alt=\"Open In Colab\"/></a>"
      ]
    },
    {
      "cell_type": "markdown",
      "source": [
        "# Numpy intro"
      ],
      "metadata": {
        "id": "NC3VLph-WdwK"
      }
    },
    {
      "cell_type": "code",
      "execution_count": 69,
      "metadata": {
        "colab": {
          "base_uri": "https://localhost:8080/"
        },
        "id": "LGNi7IGBWbvy",
        "outputId": "2c626604-0fa1-434a-fb25-1f3b41ba2c6f"
      },
      "outputs": [
        {
          "output_type": "stream",
          "name": "stdout",
          "text": [
            "Requirement already satisfied: numpy in /usr/local/lib/python3.10/dist-packages (1.23.5)\n"
          ]
        }
      ],
      "source": [
        "!pip install numpy"
      ]
    },
    {
      "cell_type": "code",
      "source": [
        "import numpy as np"
      ],
      "metadata": {
        "id": "xBMZ17I-Wsou"
      },
      "execution_count": 70,
      "outputs": []
    },
    {
      "cell_type": "markdown",
      "source": [
        "## Q1. Create a NumPy array with 5 elements of your choice."
      ],
      "metadata": {
        "id": "ullCCeVxWwj8"
      }
    },
    {
      "cell_type": "code",
      "source": [
        "np.array([1,3,4,5,6])"
      ],
      "metadata": {
        "colab": {
          "base_uri": "https://localhost:8080/"
        },
        "id": "FBYBD3faWvXc",
        "outputId": "81ee9807-2163-4e8a-a852-44a82612d401"
      },
      "execution_count": 71,
      "outputs": [
        {
          "output_type": "execute_result",
          "data": {
            "text/plain": [
              "array([1, 3, 4, 5, 6])"
            ]
          },
          "metadata": {},
          "execution_count": 71
        }
      ]
    },
    {
      "cell_type": "code",
      "source": [
        "array = np.array([1,3,4,5,6])"
      ],
      "metadata": {
        "id": "sKBB6oLYXovq"
      },
      "execution_count": 72,
      "outputs": []
    },
    {
      "cell_type": "markdown",
      "source": [
        "## Q2. Display the 5th element of the array"
      ],
      "metadata": {
        "id": "mMUeZPaSX1_H"
      }
    },
    {
      "cell_type": "code",
      "source": [
        "array[4]"
      ],
      "metadata": {
        "colab": {
          "base_uri": "https://localhost:8080/"
        },
        "id": "wJHK8VTMX_w2",
        "outputId": "d852e964-43ba-4c48-d873-db3791f49b04"
      },
      "execution_count": 73,
      "outputs": [
        {
          "output_type": "execute_result",
          "data": {
            "text/plain": [
              "6"
            ]
          },
          "metadata": {},
          "execution_count": 73
        }
      ]
    },
    {
      "cell_type": "markdown",
      "source": [
        "## Q3. Use the np.random.randint function to create a 2D array of size (3,4) with random integers between 0 and 10."
      ],
      "metadata": {
        "id": "a1MDFfLAYJQd"
      }
    },
    {
      "cell_type": "code",
      "source": [
        "np.random.randint(low= 0, high = 10, size= (3,4))"
      ],
      "metadata": {
        "colab": {
          "base_uri": "https://localhost:8080/"
        },
        "id": "qnqduuBtXrgw",
        "outputId": "1e749850-de69-4f85-f61a-03ddb0ca746a"
      },
      "execution_count": 74,
      "outputs": [
        {
          "output_type": "execute_result",
          "data": {
            "text/plain": [
              "array([[7, 7, 4, 4],\n",
              "       [9, 2, 8, 8],\n",
              "       [1, 1, 4, 8]])"
            ]
          },
          "metadata": {},
          "execution_count": 74
        }
      ]
    },
    {
      "cell_type": "markdown",
      "source": [
        "## Q4. Create a NumPy array of random numbers with dimensions 6 x 10. Call it my_array"
      ],
      "metadata": {
        "id": "R8VQMspNaalT"
      }
    },
    {
      "cell_type": "code",
      "source": [
        "my_array = np.random.randn(6,10)\n",
        "my_array"
      ],
      "metadata": {
        "colab": {
          "base_uri": "https://localhost:8080/"
        },
        "id": "m2j_JPbcaicX",
        "outputId": "6710d5ba-e72f-425c-b18b-838cb5a7e9b1"
      },
      "execution_count": 75,
      "outputs": [
        {
          "output_type": "execute_result",
          "data": {
            "text/plain": [
              "array([[ 0.66737786,  0.54637191,  0.97282251,  1.54873228,  0.54537114,\n",
              "        -1.63426709,  0.19452759,  0.14244537,  0.78708465,  0.17519824],\n",
              "       [ 1.5135298 , -1.26696724,  1.54122041,  0.74596116, -1.22142673,\n",
              "         0.11794359,  0.52765757, -0.27518094, -0.98466384,  0.20837975],\n",
              "       [-0.53587108,  1.49217277, -0.89667372, -1.79275219,  2.14946301,\n",
              "         0.81332733,  0.3690616 , -0.60022435, -0.29490472, -0.60740672],\n",
              "       [-1.06716591, -0.02900908,  1.1455026 ,  0.01793096, -0.75134042,\n",
              "         0.39313952,  1.28346082,  0.55257554,  2.32470341, -0.8952156 ],\n",
              "       [ 0.43195728,  1.10743654,  1.68321035, -0.73942974,  0.14335289,\n",
              "         0.37483957,  0.72990169, -1.86543214, -0.30698618,  0.38006763],\n",
              "       [-1.33930611,  0.94999232,  0.55669326,  0.1110874 ,  0.01588496,\n",
              "        -0.9700614 ,  2.68347613, -1.43986633,  0.3913273 ,  1.62931699]])"
            ]
          },
          "metadata": {},
          "execution_count": 75
        }
      ]
    },
    {
      "cell_type": "markdown",
      "source": [
        "## Q5. Slice out the 1st, 3rd and 5th column of the array into as new array. Call it new_array"
      ],
      "metadata": {
        "id": "fvsrE39xbR5G"
      }
    },
    {
      "cell_type": "code",
      "source": [
        "new_array = my_array[:, (0,2,4)]"
      ],
      "metadata": {
        "id": "lRgEuBJJbbQG"
      },
      "execution_count": 76,
      "outputs": []
    },
    {
      "cell_type": "markdown",
      "source": [
        "## Q6. Print the shape of each array you have created."
      ],
      "metadata": {
        "id": "aNr4kqh5cnT0"
      }
    },
    {
      "cell_type": "code",
      "source": [
        "print(new_array.shape)\n",
        "print(my_array.shape)"
      ],
      "metadata": {
        "colab": {
          "base_uri": "https://localhost:8080/"
        },
        "id": "UUpsA0eOcsR5",
        "outputId": "330c6afa-5a15-4725-ee8f-9501d1d1eb77"
      },
      "execution_count": 77,
      "outputs": [
        {
          "output_type": "stream",
          "name": "stdout",
          "text": [
            "(6, 3)\n",
            "(6, 10)\n"
          ]
        }
      ]
    },
    {
      "cell_type": "markdown",
      "source": [
        "## Q7. Try to multiply my_array x new_array. Does it work? If not, do you know why?"
      ],
      "metadata": {
        "id": "q6-q6ZYgc7TE"
      }
    },
    {
      "cell_type": "code",
      "source": [
        "my_array * new_array"
      ],
      "metadata": {
        "colab": {
          "base_uri": "https://localhost:8080/",
          "height": 175
        },
        "id": "59I42zGSdA7E",
        "outputId": "2037591d-4d4b-4b29-8c3b-d49441a2e705"
      },
      "execution_count": 78,
      "outputs": [
        {
          "output_type": "error",
          "ename": "ValueError",
          "evalue": "ignored",
          "traceback": [
            "\u001b[0;31m---------------------------------------------------------------------------\u001b[0m",
            "\u001b[0;31mValueError\u001b[0m                                Traceback (most recent call last)",
            "\u001b[0;32m<ipython-input-78-4c882053f00a>\u001b[0m in \u001b[0;36m<cell line: 1>\u001b[0;34m()\u001b[0m\n\u001b[0;32m----> 1\u001b[0;31m \u001b[0mmy_array\u001b[0m \u001b[0;34m*\u001b[0m \u001b[0mnew_array\u001b[0m\u001b[0;34m\u001b[0m\u001b[0;34m\u001b[0m\u001b[0m\n\u001b[0m",
            "\u001b[0;31mValueError\u001b[0m: operands could not be broadcast together with shapes (6,10) (6,3) "
          ]
        }
      ]
    },
    {
      "cell_type": "markdown",
      "source": [
        "The operands are in different shapes therefore cannot be multipled together since the inner dimensionality need to be the same\n"
      ],
      "metadata": {
        "id": "WML7sdqqdLUV"
      }
    },
    {
      "cell_type": "markdown",
      "source": [
        "## Q8. Transpose new_array and try again. Does it work now?"
      ],
      "metadata": {
        "id": "aQ42IyH1dViE"
      }
    },
    {
      "cell_type": "code",
      "source": [
        "new_array_t = new_array.T\n",
        "new_array_t.shape\n",
        "my_array * new_array_t"
      ],
      "metadata": {
        "colab": {
          "base_uri": "https://localhost:8080/",
          "height": 210
        },
        "id": "ir0vNjapddYT",
        "outputId": "a80079e4-df46-47be-f38c-9f9ecc5f92c6"
      },
      "execution_count": 94,
      "outputs": [
        {
          "output_type": "error",
          "ename": "ValueError",
          "evalue": "ignored",
          "traceback": [
            "\u001b[0;31m---------------------------------------------------------------------------\u001b[0m",
            "\u001b[0;31mValueError\u001b[0m                                Traceback (most recent call last)",
            "\u001b[0;32m<ipython-input-94-24611f104103>\u001b[0m in \u001b[0;36m<cell line: 3>\u001b[0;34m()\u001b[0m\n\u001b[1;32m      1\u001b[0m \u001b[0mnew_array_t\u001b[0m \u001b[0;34m=\u001b[0m \u001b[0mnew_array\u001b[0m\u001b[0;34m.\u001b[0m\u001b[0mT\u001b[0m\u001b[0;34m\u001b[0m\u001b[0;34m\u001b[0m\u001b[0m\n\u001b[1;32m      2\u001b[0m \u001b[0mnew_array_t\u001b[0m\u001b[0;34m.\u001b[0m\u001b[0mshape\u001b[0m\u001b[0;34m\u001b[0m\u001b[0;34m\u001b[0m\u001b[0m\n\u001b[0;32m----> 3\u001b[0;31m \u001b[0mmy_array\u001b[0m \u001b[0;34m*\u001b[0m \u001b[0mnew_array_t\u001b[0m\u001b[0;34m\u001b[0m\u001b[0;34m\u001b[0m\u001b[0m\n\u001b[0m",
            "\u001b[0;31mValueError\u001b[0m: operands could not be broadcast together with shapes (6,10) (3,6) "
          ]
        }
      ]
    },
    {
      "cell_type": "markdown",
      "source": [
        "## Q9. Create a NumPy array of dimensions 5 x 5 where each element is a zero."
      ],
      "metadata": {
        "id": "9ucTowy5fQ_v"
      }
    },
    {
      "cell_type": "code",
      "source": [
        "np.zeros((5,5))"
      ],
      "metadata": {
        "colab": {
          "base_uri": "https://localhost:8080/"
        },
        "id": "zX-v_-jQfXg7",
        "outputId": "80a1b105-d244-469c-ac9b-2a080e3da944"
      },
      "execution_count": 112,
      "outputs": [
        {
          "output_type": "execute_result",
          "data": {
            "text/plain": [
              "array([[0., 0., 0., 0., 0.],\n",
              "       [0., 0., 0., 0., 0.],\n",
              "       [0., 0., 0., 0., 0.],\n",
              "       [0., 0., 0., 0., 0.],\n",
              "       [0., 0., 0., 0., 0.]])"
            ]
          },
          "metadata": {},
          "execution_count": 112
        }
      ]
    },
    {
      "cell_type": "code",
      "source": [
        "array = np.zeros((5,5))"
      ],
      "metadata": {
        "id": "YIPOMP2Vgh5p"
      },
      "execution_count": 113,
      "outputs": []
    },
    {
      "cell_type": "markdown",
      "source": [
        "## Q10. Replace the left diagonal of the array with 1s."
      ],
      "metadata": {
        "id": "OXoz3zzGgbSj"
      }
    },
    {
      "cell_type": "code",
      "source": [
        "new_values = np.array([1,1,1,1])"
      ],
      "metadata": {
        "id": "gdSj02rM7B9D"
      },
      "execution_count": 117,
      "outputs": []
    },
    {
      "cell_type": "code",
      "source": [
        "array.shape"
      ],
      "metadata": {
        "colab": {
          "base_uri": "https://localhost:8080/"
        },
        "id": "L-_3s8jn9MLz",
        "outputId": "a4429125-84c8-49fe-d846-1da679d68382"
      },
      "execution_count": 116,
      "outputs": [
        {
          "output_type": "execute_result",
          "data": {
            "text/plain": [
              "(5, 5)"
            ]
          },
          "metadata": {},
          "execution_count": 116
        }
      ]
    },
    {
      "cell_type": "code",
      "source": [
        "diagonal_indices = np.arange(1, array.shape[0])\n",
        "array[diagonal_indices, diagonal_indices - 1] = new_values"
      ],
      "metadata": {
        "id": "x25gRhPHdUq1"
      },
      "execution_count": 118,
      "outputs": []
    },
    {
      "cell_type": "code",
      "source": [
        "array"
      ],
      "metadata": {
        "colab": {
          "base_uri": "https://localhost:8080/"
        },
        "id": "UrSE8kiW9V3R",
        "outputId": "ccd23e22-35bb-4a3b-cb9c-56a7f1655c81"
      },
      "execution_count": 119,
      "outputs": [
        {
          "output_type": "execute_result",
          "data": {
            "text/plain": [
              "array([[0., 0., 0., 0., 0.],\n",
              "       [1., 0., 0., 0., 0.],\n",
              "       [0., 1., 0., 0., 0.],\n",
              "       [0., 0., 1., 0., 0.],\n",
              "       [0., 0., 0., 1., 0.]])"
            ]
          },
          "metadata": {},
          "execution_count": 119
        }
      ]
    },
    {
      "cell_type": "markdown",
      "source": [
        "## Q11. Create a 3D array of size (3,4,5) and use slicing to select the first two elements of the last dimension."
      ],
      "metadata": {
        "id": "wk26K4ZzrDSG"
      }
    },
    {
      "cell_type": "code",
      "source": [
        "three_dim_array = np.random.randn(3,4,5)\n",
        "three_dim_array"
      ],
      "metadata": {
        "colab": {
          "base_uri": "https://localhost:8080/"
        },
        "id": "jyY52lYirK5-",
        "outputId": "2f651e29-2beb-4f91-a64e-75b6f4135e58"
      },
      "execution_count": 87,
      "outputs": [
        {
          "output_type": "execute_result",
          "data": {
            "text/plain": [
              "array([[[-2.12134144, -1.2839279 ,  0.51140207,  1.1237433 ,\n",
              "          2.62424348],\n",
              "        [-0.41388733, -3.78742852,  0.06892128,  0.66527465,\n",
              "          0.48708284],\n",
              "        [ 0.48864506, -0.05198404,  1.61558147, -0.26036143,\n",
              "         -0.16146156],\n",
              "        [-0.7819162 , -0.57897946, -0.59098396, -0.02080128,\n",
              "         -0.32361645]],\n",
              "\n",
              "       [[ 0.07373768,  1.44510588,  1.03574162,  0.45706309,\n",
              "          0.31685863],\n",
              "        [-0.61787175, -1.75648734,  0.82456658, -0.62050271,\n",
              "          0.35772386],\n",
              "        [-0.71826092, -0.12068753, -0.05883413, -0.38262179,\n",
              "          0.52579755],\n",
              "        [ 0.90088368,  1.74973822,  0.80585195,  2.11432609,\n",
              "          1.56968543]],\n",
              "\n",
              "       [[-2.13653459,  1.33797485,  0.23354344,  0.92275183,\n",
              "         -0.65859801],\n",
              "        [ 1.26044538,  0.13779486,  1.3947719 , -0.96521697,\n",
              "          0.27904097],\n",
              "        [ 0.69050369, -0.09660196,  1.18632863, -0.52196809,\n",
              "         -0.02088341],\n",
              "        [-0.42984227, -0.72178712,  0.07819376,  0.72727713,\n",
              "         -0.2022363 ]]])"
            ]
          },
          "metadata": {},
          "execution_count": 87
        }
      ]
    },
    {
      "cell_type": "code",
      "source": [
        "three_dim_array[2:]"
      ],
      "metadata": {
        "colab": {
          "base_uri": "https://localhost:8080/"
        },
        "id": "i5iObvBlunq5",
        "outputId": "5eeb2c66-2d3f-4c62-adb6-fe7c31dd76d9"
      },
      "execution_count": 88,
      "outputs": [
        {
          "output_type": "execute_result",
          "data": {
            "text/plain": [
              "array([[[-2.13653459,  1.33797485,  0.23354344,  0.92275183,\n",
              "         -0.65859801],\n",
              "        [ 1.26044538,  0.13779486,  1.3947719 , -0.96521697,\n",
              "          0.27904097],\n",
              "        [ 0.69050369, -0.09660196,  1.18632863, -0.52196809,\n",
              "         -0.02088341],\n",
              "        [-0.42984227, -0.72178712,  0.07819376,  0.72727713,\n",
              "         -0.2022363 ]]])"
            ]
          },
          "metadata": {},
          "execution_count": 88
        }
      ]
    },
    {
      "cell_type": "code",
      "source": [
        "three_dim_array[2:, 3:]"
      ],
      "metadata": {
        "colab": {
          "base_uri": "https://localhost:8080/"
        },
        "id": "eUnG9GG2vLNJ",
        "outputId": "1ee3e3eb-f7cc-407d-8b84-0c4905e11815"
      },
      "execution_count": 89,
      "outputs": [
        {
          "output_type": "execute_result",
          "data": {
            "text/plain": [
              "array([[[-0.42984227, -0.72178712,  0.07819376,  0.72727713,\n",
              "         -0.2022363 ]]])"
            ]
          },
          "metadata": {},
          "execution_count": 89
        }
      ]
    },
    {
      "cell_type": "code",
      "source": [
        "three_dim_array[2:,3:,0:2]"
      ],
      "metadata": {
        "colab": {
          "base_uri": "https://localhost:8080/"
        },
        "id": "fzPPwlyxso9t",
        "outputId": "b0133600-5162-46df-de0d-0a9548272963"
      },
      "execution_count": 90,
      "outputs": [
        {
          "output_type": "execute_result",
          "data": {
            "text/plain": [
              "array([[[-0.42984227, -0.72178712]]])"
            ]
          },
          "metadata": {},
          "execution_count": 90
        }
      ]
    },
    {
      "cell_type": "markdown",
      "source": [
        "## Q12. Create a NumPy 1D-array with 10 elements, then reshape the array into a 2x5 matrix."
      ],
      "metadata": {
        "id": "I4CGi0rh-mFN"
      }
    },
    {
      "cell_type": "code",
      "source": [
        "reshaped_array = np.random.rand(10).reshape(2,5)"
      ],
      "metadata": {
        "id": "nTpXWW1P-wv7"
      },
      "execution_count": 122,
      "outputs": []
    },
    {
      "cell_type": "markdown",
      "source": [
        "## Q13.Create a second NumPy array with 5 elements, and join it to the first array using the concatenate function."
      ],
      "metadata": {
        "id": "N61OYZMp_C-0"
      }
    },
    {
      "cell_type": "code",
      "source": [
        "secondary_array = np.random.rand(1,5)\n",
        "secondary_array"
      ],
      "metadata": {
        "colab": {
          "base_uri": "https://localhost:8080/"
        },
        "id": "kb6FQTDu_KOZ",
        "outputId": "a7caa2a3-ff7e-4499-f678-ac4afa6768d6"
      },
      "execution_count": 144,
      "outputs": [
        {
          "output_type": "execute_result",
          "data": {
            "text/plain": [
              "array([[0.31955019, 0.53217633, 0.60562219, 0.12355545, 0.22437007]])"
            ]
          },
          "metadata": {},
          "execution_count": 144
        }
      ]
    },
    {
      "cell_type": "code",
      "source": [
        "np.concatenate((secondary_array,reshaped_array), axis= 0)"
      ],
      "metadata": {
        "colab": {
          "base_uri": "https://localhost:8080/"
        },
        "id": "hDCoZxL3_bcX",
        "outputId": "a98cba75-0e0e-44d3-97ae-909319f264d0"
      },
      "execution_count": 149,
      "outputs": [
        {
          "output_type": "execute_result",
          "data": {
            "text/plain": [
              "array([[0.31955019, 0.53217633, 0.60562219, 0.12355545, 0.22437007],\n",
              "       [0.08556691, 0.95773113, 0.96652173, 0.50827109, 0.24613271],\n",
              "       [0.14699175, 0.80566354, 0.91730196, 0.23538676, 0.77932651]])"
            ]
          },
          "metadata": {},
          "execution_count": 149
        }
      ]
    },
    {
      "cell_type": "markdown",
      "source": [
        "## Q14.Create two arrays of size (2,3) and broadcast them together to create an array of size (2,3,3)."
      ],
      "metadata": {
        "id": "_RSyB7YoDRVy"
      }
    },
    {
      "cell_type": "code",
      "source": [
        "array_1 = np.random.randn(2,3)\n",
        "array_2 = np.random.randn(2,3)"
      ],
      "metadata": {
        "id": "B-KgTePEDdhN"
      },
      "execution_count": 153,
      "outputs": []
    },
    {
      "cell_type": "code",
      "source": [
        "broadcasted_array = array_1.reshape(-1,1,3) * array_2.reshape(2,-1,1)"
      ],
      "metadata": {
        "id": "doK9J6YQF7f3"
      },
      "execution_count": 160,
      "outputs": []
    },
    {
      "cell_type": "code",
      "source": [
        "print(broadcasted_array.shape)\n",
        "broadcasted_array"
      ],
      "metadata": {
        "colab": {
          "base_uri": "https://localhost:8080/"
        },
        "id": "HyXcFR6QGA5Y",
        "outputId": "8812892f-c089-463a-a160-d8c55a5fa095"
      },
      "execution_count": 162,
      "outputs": [
        {
          "output_type": "stream",
          "name": "stdout",
          "text": [
            "(2, 3, 3)\n"
          ]
        },
        {
          "output_type": "execute_result",
          "data": {
            "text/plain": [
              "array([[[-0.26029546,  0.08684727,  0.34997797],\n",
              "        [-0.29003707,  0.09677052,  0.38996679],\n",
              "        [ 1.35660871, -0.45263088, -1.82401633]],\n",
              "\n",
              "       [[ 1.04506285,  1.03059189, -2.50787918],\n",
              "        [-0.10215632, -0.10074176,  0.24514861],\n",
              "        [ 0.58980749,  0.58164043, -1.41538464]]])"
            ]
          },
          "metadata": {},
          "execution_count": 162
        }
      ]
    }
  ]
}